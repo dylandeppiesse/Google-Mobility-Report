{
 "cells": [
  {
   "cell_type": "code",
   "execution_count": 1,
   "metadata": {},
   "outputs": [],
   "source": [
    "import pandas as pd\n",
    "import numpy as np\n",
    "import matplotlib.pyplot as plt\n",
    "from datetime import datetime "
   ]
  },
  {
   "cell_type": "markdown",
   "metadata": {},
   "source": [
    "Specify all column types to speed up loading"
   ]
  },
  {
   "cell_type": "code",
   "execution_count": 2,
   "metadata": {},
   "outputs": [],
   "source": [
    "dtypes = { 'country_region_code' : object, \n",
    "           'country_region': object, \n",
    "           'sub_region_1': object, \n",
    "           'sub_region_2': object,\n",
    "           'metro_area': object, \n",
    "           'iso_3166_2_code': object, \n",
    "           'census_fips_code': float, \n",
    "           'date': object,\n",
    "           'retail_and_recreation_percent_change_from_baseline': float,\n",
    "           'grocery_and_pharmacy_percent_change_from_baseline': float,\n",
    "           'parks_percent_change_from_baseline': float,\n",
    "           'transit_stations_percent_change_from_baseline': float,\n",
    "           'workplaces_percent_change_from_baseline': float,\n",
    "           'residential_percent_change_from_baseline': float\n",
    "         }\n",
    "\n",
    "data=pd.read_csv('Global_Mobility_Report_November.csv',\n",
    "                 dtype=dtypes\n",
    "                )"
   ]
  },
  {
   "cell_type": "markdown",
   "metadata": {},
   "source": [
    "Rename columns to shorten them and enhance readability "
   ]
  },
  {
   "cell_type": "code",
   "execution_count": 3,
   "metadata": {},
   "outputs": [],
   "source": [
    "data.rename(columns={'retail_and_recreation_percent_change_from_baseline': 'retail_and_recreation',\n",
    "                     'grocery_and_pharmacy_percent_change_from_baseline': 'grocery_and_pharmacy',\n",
    "                     'parks_percent_change_from_baseline': 'parks',              \n",
    "                     'transit_stations_percent_change_from_baseline': 'transit',\n",
    "                     'workplaces_percent_change_from_baseline':'workplaces',\n",
    "                     'residential_percent_change_from_baseline':'residential'\n",
    "                     \n",
    "                      },inplace = True)"
   ]
  },
  {
   "cell_type": "markdown",
   "metadata": {},
   "source": [
    "Split out the Canada data only"
   ]
  },
  {
   "cell_type": "code",
   "execution_count": 4,
   "metadata": {},
   "outputs": [],
   "source": [
    "Canada_data = data[data['country_region']=='Canada'].copy()"
   ]
  },
  {
   "cell_type": "code",
   "execution_count": 5,
   "metadata": {},
   "outputs": [],
   "source": [
    "Clean_Canada_data = Canada_data.drop(columns =['metro_area', 'iso_3166_2_code', 'census_fips_code', 'sub_region_2'], axis=1)"
   ]
  },
  {
   "cell_type": "code",
   "execution_count": 10,
   "metadata": {},
   "outputs": [],
   "source": [
    "Clean_Canada_data['sub_region_1'] = Clean_Canada_data['sub_region_1'].fillna('Canada')"
   ]
  },
  {
   "cell_type": "code",
   "execution_count": 11,
   "metadata": {},
   "outputs": [],
   "source": [
    "Clean_Canada_data.to_csv('Canada_data_nov.csv')"
   ]
  },
  {
   "cell_type": "code",
   "execution_count": 7,
   "metadata": {},
   "outputs": [
    {
     "data": {
      "text/html": [
       "<div>\n",
       "<style scoped>\n",
       "    .dataframe tbody tr th:only-of-type {\n",
       "        vertical-align: middle;\n",
       "    }\n",
       "\n",
       "    .dataframe tbody tr th {\n",
       "        vertical-align: top;\n",
       "    }\n",
       "\n",
       "    .dataframe thead th {\n",
       "        text-align: right;\n",
       "    }\n",
       "</style>\n",
       "<table border=\"1\" class=\"dataframe\">\n",
       "  <thead>\n",
       "    <tr style=\"text-align: right;\">\n",
       "      <th></th>\n",
       "      <th>country_region_code</th>\n",
       "      <th>country_region</th>\n",
       "      <th>sub_region_1</th>\n",
       "      <th>date</th>\n",
       "      <th>retail_and_recreation</th>\n",
       "      <th>grocery_and_pharmacy</th>\n",
       "      <th>parks</th>\n",
       "      <th>transit</th>\n",
       "      <th>workplaces</th>\n",
       "      <th>residential</th>\n",
       "    </tr>\n",
       "  </thead>\n",
       "  <tbody>\n",
       "    <tr>\n",
       "      <th>733582</th>\n",
       "      <td>CA</td>\n",
       "      <td>Canada</td>\n",
       "      <td>NaN</td>\n",
       "      <td>2020-02-15</td>\n",
       "      <td>4.0</td>\n",
       "      <td>2.0</td>\n",
       "      <td>10.0</td>\n",
       "      <td>3.0</td>\n",
       "      <td>1.0</td>\n",
       "      <td>0.0</td>\n",
       "    </tr>\n",
       "    <tr>\n",
       "      <th>733583</th>\n",
       "      <td>CA</td>\n",
       "      <td>Canada</td>\n",
       "      <td>NaN</td>\n",
       "      <td>2020-02-16</td>\n",
       "      <td>13.0</td>\n",
       "      <td>8.0</td>\n",
       "      <td>41.0</td>\n",
       "      <td>4.0</td>\n",
       "      <td>0.0</td>\n",
       "      <td>-2.0</td>\n",
       "    </tr>\n",
       "    <tr>\n",
       "      <th>733584</th>\n",
       "      <td>CA</td>\n",
       "      <td>Canada</td>\n",
       "      <td>NaN</td>\n",
       "      <td>2020-02-17</td>\n",
       "      <td>-12.0</td>\n",
       "      <td>-15.0</td>\n",
       "      <td>63.0</td>\n",
       "      <td>-28.0</td>\n",
       "      <td>-52.0</td>\n",
       "      <td>11.0</td>\n",
       "    </tr>\n",
       "    <tr>\n",
       "      <th>733585</th>\n",
       "      <td>CA</td>\n",
       "      <td>Canada</td>\n",
       "      <td>NaN</td>\n",
       "      <td>2020-02-18</td>\n",
       "      <td>-1.0</td>\n",
       "      <td>4.0</td>\n",
       "      <td>6.0</td>\n",
       "      <td>-1.0</td>\n",
       "      <td>-1.0</td>\n",
       "      <td>1.0</td>\n",
       "    </tr>\n",
       "    <tr>\n",
       "      <th>733586</th>\n",
       "      <td>CA</td>\n",
       "      <td>Canada</td>\n",
       "      <td>NaN</td>\n",
       "      <td>2020-02-19</td>\n",
       "      <td>1.0</td>\n",
       "      <td>1.0</td>\n",
       "      <td>9.0</td>\n",
       "      <td>0.0</td>\n",
       "      <td>0.0</td>\n",
       "      <td>0.0</td>\n",
       "    </tr>\n",
       "  </tbody>\n",
       "</table>\n",
       "</div>"
      ],
      "text/plain": [
       "       country_region_code country_region sub_region_1        date  \\\n",
       "733582                  CA         Canada          NaN  2020-02-15   \n",
       "733583                  CA         Canada          NaN  2020-02-16   \n",
       "733584                  CA         Canada          NaN  2020-02-17   \n",
       "733585                  CA         Canada          NaN  2020-02-18   \n",
       "733586                  CA         Canada          NaN  2020-02-19   \n",
       "\n",
       "        retail_and_recreation  grocery_and_pharmacy  parks  transit  \\\n",
       "733582                    4.0                   2.0   10.0      3.0   \n",
       "733583                   13.0                   8.0   41.0      4.0   \n",
       "733584                  -12.0                 -15.0   63.0    -28.0   \n",
       "733585                   -1.0                   4.0    6.0     -1.0   \n",
       "733586                    1.0                   1.0    9.0      0.0   \n",
       "\n",
       "        workplaces  residential  \n",
       "733582         1.0          0.0  \n",
       "733583         0.0         -2.0  \n",
       "733584       -52.0         11.0  \n",
       "733585        -1.0          1.0  \n",
       "733586         0.0          0.0  "
      ]
     },
     "execution_count": 7,
     "metadata": {},
     "output_type": "execute_result"
    }
   ],
   "source": []
  },
  {
   "cell_type": "code",
   "execution_count": null,
   "metadata": {},
   "outputs": [],
   "source": []
  }
 ],
 "metadata": {
  "kernelspec": {
   "display_name": "Python 3",
   "language": "python",
   "name": "python3"
  },
  "language_info": {
   "codemirror_mode": {
    "name": "ipython",
    "version": 3
   },
   "file_extension": ".py",
   "mimetype": "text/x-python",
   "name": "python",
   "nbconvert_exporter": "python",
   "pygments_lexer": "ipython3",
   "version": "3.6.5"
  }
 },
 "nbformat": 4,
 "nbformat_minor": 2
}
