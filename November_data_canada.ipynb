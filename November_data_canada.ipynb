{
 "cells": [
  {
   "cell_type": "code",
   "execution_count": 1,
   "metadata": {},
   "outputs": [],
   "source": [
    "import pandas as pd\n",
    "import numpy as np\n",
    "import matplotlib.pyplot as plt\n",
    "from datetime import datetime "
   ]
  },
  {
   "cell_type": "markdown",
   "metadata": {},
   "source": [
    "Specify all column types to speed up loading"
   ]
  },
  {
   "cell_type": "code",
   "execution_count": 2,
   "metadata": {},
   "outputs": [],
   "source": [
    "dtypes = { 'country_region_code' : object, \n",
    "           'country_region': object, \n",
    "           'sub_region_1': object, \n",
    "           'sub_region_2': object,\n",
    "           'metro_area': object, \n",
    "           'iso_3166_2_code': object, \n",
    "           'census_fips_code': float, \n",
    "           'date': object,\n",
    "           'retail_and_recreation_percent_change_from_baseline': float,\n",
    "           'grocery_and_pharmacy_percent_change_from_baseline': float,\n",
    "           'parks_percent_change_from_baseline': float,\n",
    "           'transit_stations_percent_change_from_baseline': float,\n",
    "           'workplaces_percent_change_from_baseline': float,\n",
    "           'residential_percent_change_from_baseline': float\n",
    "         }\n",
    "\n",
    "data=pd.read_csv('Global_Mobility_Report_November.csv',\n",
    "                 dtype=dtypes\n",
    "                )"
   ]
  },
  {
   "cell_type": "markdown",
   "metadata": {},
   "source": [
    "Rename columns to shorten them and enhance readability "
   ]
  },
  {
   "cell_type": "code",
   "execution_count": 3,
   "metadata": {},
   "outputs": [],
   "source": [
    "data.rename(columns={'retail_and_recreation_percent_change_from_baseline': 'retail_and_recreation',\n",
    "                     'grocery_and_pharmacy_percent_change_from_baseline': 'grocery_and_pharmacy',\n",
    "                     'parks_percent_change_from_baseline': 'parks',              \n",
    "                     'transit_stations_percent_change_from_baseline': 'transit',\n",
    "                     'workplaces_percent_change_from_baseline':'workplaces',\n",
    "                     'residential_percent_change_from_baseline':'residential'\n",
    "                     \n",
    "                      },inplace = True)"
   ]
  },
  {
   "cell_type": "code",
   "execution_count": null,
   "metadata": {},
   "outputs": [],
   "source": [
    "Split out the Canada data only and then remove all unused columns.\n",
    "Last, fill the sub_region_1 blank columns with 'Canada' as these are the entries for all of Canada, not specific provinces or territories."
   ]
  },
  {
   "cell_type": "code",
   "execution_count": 4,
   "metadata": {},
   "outputs": [],
   "source": [
    "Canada_data = data[data['country_region']=='Canada'].copy()"
   ]
  },
  {
   "cell_type": "code",
   "execution_count": 5,
   "metadata": {},
   "outputs": [],
   "source": [
    "Clean_Canada_data = Canada_data.drop(columns =['metro_area', 'iso_3166_2_code', 'census_fips_code', 'sub_region_2'], axis=1)"
   ]
  },
  {
   "cell_type": "code",
   "execution_count": 10,
   "metadata": {},
   "outputs": [],
   "source": [
    "Clean_Canada_data['sub_region_1'] = Clean_Canada_data['sub_region_1'].fillna('Canada')"
   ]
  },
  {
   "cell_type": "code",
   "execution_count": 11,
   "metadata": {},
   "outputs": [],
   "source": [
    "Clean_Canada_data.to_csv('Canada_data_nov.csv')"
   ]
  }
 ],
 "metadata": {
  "kernelspec": {
   "display_name": "Python 3",
   "language": "python",
   "name": "python3"
  },
  "language_info": {
   "codemirror_mode": {
    "name": "ipython",
    "version": 3
   },
   "file_extension": ".py",
   "mimetype": "text/x-python",
   "name": "python",
   "nbconvert_exporter": "python",
   "pygments_lexer": "ipython3",
   "version": "3.6.5"
  }
 },
 "nbformat": 4,
 "nbformat_minor": 2
}
