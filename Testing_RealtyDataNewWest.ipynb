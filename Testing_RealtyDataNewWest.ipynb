{
  "nbformat": 4,
  "nbformat_minor": 0,
  "metadata": {
    "colab": {
      "name": "Testing RealtyDataNewWest.ipynb",
      "provenance": [],
      "authorship_tag": "ABX9TyNDTWscJKlNJ7CMsHY6bNDw",
      "include_colab_link": true
    },
    "kernelspec": {
      "name": "python3",
      "display_name": "Python 3"
    },
    "language_info": {
      "name": "python"
    }
  },
  "cells": [
    {
      "cell_type": "markdown",
      "metadata": {
        "id": "view-in-github",
        "colab_type": "text"
      },
      "source": [
        "<a href=\"https://colab.research.google.com/github/dylandeppiesse/Google-Mobility-Report/blob/master/Testing_RealtyDataNewWest.ipynb\" target=\"_parent\"><img src=\"https://colab.research.google.com/assets/colab-badge.svg\" alt=\"Open In Colab\"/></a>"
      ]
    },
    {
      "cell_type": "code",
      "metadata": {
        "id": "nCKt4Rg-3BZX"
      },
      "source": [
        "from bs4 import BeautifulSoup\n",
        "from requests import get\n",
        "import time as t\n",
        "from random import randint\n",
        "import pandas as pd\n",
        "import itertools\n",
        "import re\n",
        "\n",
        "# setting headers which will make it look like this is coming\n",
        "# from an actual browser instead of a scraper\n",
        "headers = ({'User-Agent':\n",
        "            'Mozilla/5.0 (Windows NT 6.1) AppleWebKit/537.36 (KHTML,\\\n",
        "            like Gecko) Chrome/41.0.2228.0 Safari/537.36'})\n",
        "\n"
      ],
      "execution_count": 1,
      "outputs": []
    },
    {
      "cell_type": "code",
      "metadata": {
        "id": "7rEg9h2nUqsu",
        "colab": {
          "base_uri": "https://localhost:8080/"
        },
        "outputId": "31045d5d-96f7-449a-fd90-52a659388050"
      },
      "source": [
        "%%time \n",
        "\n",
        "# setting up lists to form our dataframe later on\n",
        "address = []\n",
        "city = []\n",
        "price = []\n",
        "bed_bath_sqft = []\n",
        "property_type = []\n",
        "\n",
        "# this is our test area, we need to add all listings to the listing_container, currently it just adds the last page in the range\n",
        "# I think there should only be the same number of addresses as listing containers, not close to 5,000 as we are getting\n",
        "# need to figure out how/why other fields aren't scraping\n",
        "\n",
        "\n",
        "listing_container = []\n",
        "for page in range(1,8):\n",
        "    listing_url = 'https://www.rew.ca/properties/areas/new-westminster-bc/page/' + str(page)\n",
        "    r = get(listing_url, headers=headers)\n",
        "    listing_html = BeautifulSoup(r.text, 'html.parser')\n",
        "    listing_container += listing_html.find_all('div', class_ = 'displaypanel-content')\n",
        "\n",
        "    if listing_container != []:\n",
        "        for container in listing_container:\n",
        "\n",
        "            #address\n",
        "            location = container.find_all('div', class_ = 'displaypanel-section')[0]\n",
        "            address.append(location)\n",
        "\n",
        "            #city\n",
        "            zone = container.find_all('ul', class_ = 'l-pipedlist displaypanel-info')\n",
        "            city.append(zone)\n",
        "\n",
        "            #price\n",
        "            amt = int(container.find('div', class_ = 'displaypanel-title').text[2:].replace(',',''))\n",
        "            price.append(amt)\n",
        "\n",
        "            #Beds, Baths, and Square Footage\n",
        "            living_space = container.find_all('ul', class_ = 'l-pipedlist')[1].text\n",
        "            bed_bath_sqft.append(living_space)\n",
        "\n",
        "            #property type\n",
        "            p_type = container.find_all('div', class_ = 'displaypanel-info')[0].text\n",
        "            property_type.append(p_type)\n",
        "\n",
        "    else:\n",
        "        break\n",
        "\n",
        "        t.sleep(randint(1,3))\n",
        "\n",
        "print('Scraped {} addresses and {} cities'.format(len(address),len(city)))\n"
      ],
      "execution_count": 2,
      "outputs": [
        {
          "output_type": "stream",
          "name": "stdout",
          "text": [
            "Scraped 616 addresses and 616 cities\n",
            "CPU times: user 1.6 s, sys: 32 ms, total: 1.63 s\n",
            "Wall time: 6.13 s\n"
          ]
        }
      ]
    },
    {
      "cell_type": "code",
      "source": [
        "print(len(listing_container))\n",
        "print(len(price))\n",
        "print(len(bed_bath_sqft))\n",
        "print(len(property_type))"
      ],
      "metadata": {
        "id": "2YeMBNV7M2FY",
        "colab": {
          "base_uri": "https://localhost:8080/"
        },
        "outputId": "463e8b62-3842-4b07-f921-321334966355"
      },
      "execution_count": 3,
      "outputs": [
        {
          "output_type": "stream",
          "name": "stdout",
          "text": [
            "154\n",
            "616\n",
            "616\n",
            "616\n"
          ]
        }
      ]
    },
    {
      "cell_type": "code",
      "source": [
        "CleanAddresses = list(set(address))\n",
        "len(CleanAddresses)"
      ],
      "metadata": {
        "colab": {
          "base_uri": "https://localhost:8080/"
        },
        "id": "0eWhf9zDaFps",
        "outputId": "f9e0cf75-c040-4b38-d01f-886ed3110c0f"
      },
      "execution_count": 8,
      "outputs": [
        {
          "output_type": "execute_result",
          "data": {
            "text/plain": [
              "140"
            ]
          },
          "metadata": {},
          "execution_count": 8
        }
      ]
    },
    {
      "cell_type": "code",
      "source": [
        "# next step is to make 2 data frames - one for Clean Addresses and \n",
        "# then another with all the above info to left join into Clean Addresses DF"
      ],
      "metadata": {
        "id": "jkIuvWyBaUYy"
      },
      "execution_count": null,
      "outputs": []
    }
  ]
}