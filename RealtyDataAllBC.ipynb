{
  "nbformat": 4,
  "nbformat_minor": 0,
  "metadata": {
    "colab": {
      "name": "RealtyDataAllBC.ipynb",
      "provenance": [],
      "collapsed_sections": [],
      "authorship_tag": "ABX9TyMfYsQSDVLh/NM1T79+7auu",
      "include_colab_link": true
    },
    "kernelspec": {
      "name": "python3",
      "display_name": "Python 3"
    },
    "language_info": {
      "name": "python"
    }
  },
  "cells": [
    {
      "cell_type": "markdown",
      "metadata": {
        "id": "view-in-github",
        "colab_type": "text"
      },
      "source": [
        "<a href=\"https://colab.research.google.com/github/dylandeppiesse/Google-Mobility-Report/blob/master/RealtyDataAllBC.ipynb\" target=\"_parent\"><img src=\"https://colab.research.google.com/assets/colab-badge.svg\" alt=\"Open In Colab\"/></a>"
      ]
    },
    {
      "cell_type": "code",
      "metadata": {
        "id": "nCKt4Rg-3BZX"
      },
      "source": [
        "from bs4 import BeautifulSoup\n",
        "from requests import get\n",
        "import time as t\n",
        "from random import randint\n",
        "import pandas as pd\n",
        "import itertools\n",
        "import re"
      ],
      "execution_count": null,
      "outputs": []
    },
    {
      "cell_type": "code",
      "metadata": {
        "id": "upZ6CxvK2eeN"
      },
      "source": [
        "# setting headers which will make it look like this is coming\n",
        "# from an actual browser instead of a scraper\n",
        "headers = ({'User-Agent':\n",
        "            'Mozilla/5.0 (Windows NT 6.1) AppleWebKit/537.36 (KHTML,\\\n",
        "            like Gecko) Chrome/41.0.2228.0 Safari/537.36'})"
      ],
      "execution_count": null,
      "outputs": []
    },
    {
      "cell_type": "code",
      "metadata": {
        "id": "Q3a6XmCz2kEa"
      },
      "source": [
        "realtor = 'https://www.rew.ca/sitemap/real-estate/bc'\n",
        "response = get(realtor, headers=headers)\n",
        "html_soup = BeautifulSoup(response.text, 'html.parser')"
      ],
      "execution_count": null,
      "outputs": []
    },
    {
      "cell_type": "code",
      "metadata": {
        "colab": {
          "base_uri": "https://localhost:8080/"
        },
        "id": "hViGj97MrFcV",
        "outputId": "c5bef9b2-ae3b-47a9-b46c-7e2f05e68452"
      },
      "source": [
        "%%time\n",
        "#setting up a list to get every sub-region\n",
        "subregion = []\n",
        "bc_urls = 'https://www.rew.ca/sitemap/real-estate/bc'\n",
        "bc_r = get(bc_urls,headers = headers)\n",
        "bc_html = BeautifulSoup(bc_r.text, 'html.parser')\n",
        "subregion_containers = bc_html.find_all('div', class_ ='gridblock-item')"
      ],
      "execution_count": null,
      "outputs": [
        {
          "output_type": "stream",
          "name": "stdout",
          "text": [
            "CPU times: user 92.3 ms, sys: 2.86 ms, total: 95.1 ms\n",
            "Wall time: 592 ms\n"
          ]
        }
      ]
    },
    {
      "cell_type": "code",
      "metadata": {
        "colab": {
          "base_uri": "https://localhost:8080/"
        },
        "id": "x823zg13BbXB",
        "outputId": "1167ad6d-2e55-4178-b9c5-1666ea5d0caa"
      },
      "source": [
        "len(subregion_containers)"
      ],
      "execution_count": null,
      "outputs": [
        {
          "output_type": "execute_result",
          "data": {
            "text/plain": [
              "177"
            ]
          },
          "metadata": {},
          "execution_count": 5
        }
      ]
    },
    {
      "cell_type": "code",
      "metadata": {
        "colab": {
          "base_uri": "https://localhost:8080/"
        },
        "id": "MKXYBp2W87hy",
        "outputId": "f6d25a64-8f3f-4685-8462-c7e44b7ab777"
      },
      "source": [
        "if subregion_containers != []:\n",
        "    for container in subregion_containers:\n",
        "        url = container.find('a', class_= 'gridblock-link')\n",
        "        subregion.append(url)\n",
        "\n",
        "t.sleep(randint(1,3))\n",
        "\n",
        "print('Scraped {} links.'.format(len(subregion)))"
      ],
      "execution_count": null,
      "outputs": [
        {
          "output_type": "stream",
          "name": "stdout",
          "text": [
            "Scraped 177 links.\n"
          ]
        }
      ]
    },
    {
      "cell_type": "code",
      "metadata": {
        "id": "nihs_wxF7919"
      },
      "source": [
        "#converting subregions to strings to allow regex \n",
        "subregion_str=[str(region) for region in subregion]\n",
        "\n",
        "#performing regex to remove unecessary info\n",
        "subregion_urls = []\n",
        "for item in subregion_str:\n",
        "    subregion_urls.append(re.findall(\"href=(.+?)>\",item))"
      ],
      "execution_count": null,
      "outputs": []
    },
    {
      "cell_type": "code",
      "metadata": {
        "id": "_xQwvB3d8Uu4"
      },
      "source": [
        "#convert to list of STR to perform changes on\n",
        "subregion_url_str=[str(region) for region in subregion_urls]\n",
        "\n",
        "#cleaning up subregion_urls so that we can insert them in a loop to get Neigbourhoods\n",
        "#this loop needs to look like rew.ca + subregion_url\n",
        "clean_urls = []\n",
        "for region in subregion_url_str:\n",
        "    clean_urls.append(region.replace('\"','').replace(\"['\",'').replace(\"']\",''))"
      ],
      "execution_count": null,
      "outputs": []
    },
    {
      "cell_type": "code",
      "metadata": {
        "colab": {
          "base_uri": "https://localhost:8080/"
        },
        "id": "Czy0llYzNt1t",
        "outputId": "32a35ce6-ca91-4da6-df01-71840e4d9203"
      },
      "source": [
        "%%time \n",
        "#loop to get neighbourhoods from subregions list above\n",
        "cities = []\n",
        "for url in clean_urls:\n",
        "    subregion_url = 'https://www.rew.ca'+ url\n",
        "    r = get(subregion_url, headers=headers)\n",
        "    city_html = BeautifulSoup(r.text, 'html.parser')\n",
        "    city_container = city_html.find_all('div', class_ = 'gridblock-item')\n",
        "    \n",
        "    if city_container != []:\n",
        "        for container in city_container:\n",
        "            city = container.find_all('a', class_ = 'gridblock-link')\n",
        "            cities.append(city)\n",
        "\n",
        "    t.sleep(randint(1,3))"
      ],
      "execution_count": null,
      "outputs": [
        {
          "output_type": "stream",
          "name": "stdout",
          "text": [
            "CPU times: user 9.5 s, sys: 446 ms, total: 9.94 s\n",
            "Wall time: 7min 9s\n"
          ]
        }
      ]
    },
    {
      "cell_type": "code",
      "metadata": {
        "colab": {
          "base_uri": "https://localhost:8080/"
        },
        "id": "Xt0PS8LokRDZ",
        "outputId": "104099c4-c7d5-42ca-aca7-abdf1f04ad54"
      },
      "source": [
        "print(len(cities))\n",
        "print(cities[0])"
      ],
      "execution_count": null,
      "outputs": [
        {
          "output_type": "stream",
          "name": "stdout",
          "text": [
            "685\n",
            "[<a class=\"gridblock-link\" href=\"/sitemap/real-estate/belgo-black-mountain-kelowna-bc\">Belgo - Black Mountain\n",
            "(24)\n",
            "</a>]\n"
          ]
        }
      ]
    },
    {
      "cell_type": "code",
      "metadata": {
        "id": "8tcPyoStIDzF"
      },
      "source": [
        "#converting cities to strings to allow regex \n",
        "city_str=[str(city) for city in cities]\n",
        "\n",
        "#performing regex to remove unecessary info\n",
        "city_urls = []\n",
        "for item in city_str:\n",
        "    city_urls.append(re.findall(\"href=(.+?)>\",item))"
      ],
      "execution_count": null,
      "outputs": []
    },
    {
      "cell_type": "code",
      "metadata": {
        "id": "8mex0b5YMRoa"
      },
      "source": [
        "#convert to list of STR to perform changes on\n",
        "city_url_str=[str(city) for city in city_urls]\n",
        "\n",
        "#cleaning up city_urls so that we can insert them in a loop to get Neigbourhoods\n",
        "#this loop needs to look like rew.ca + subregion_url\n",
        "clean_city_urls = []\n",
        "for city in city_url_str:\n",
        "    clean_city_urls.append(city.replace('\"','').replace(\"['\",'').replace(\"']\",''))"
      ],
      "execution_count": null,
      "outputs": []
    },
    {
      "cell_type": "code",
      "metadata": {
        "id": "VWBteSwTQeuk"
      },
      "source": [
        "city_list = []\n",
        "for city in clean_city_urls:\n",
        "    city_list.append(city[20:])"
      ],
      "execution_count": null,
      "outputs": []
    },
    {
      "cell_type": "code",
      "metadata": {
        "colab": {
          "base_uri": "https://localhost:8080/"
        },
        "id": "YsW99cXNNH2H",
        "outputId": "e0d33c03-818e-4a2f-ace8-45b1c1c928f0"
      },
      "source": [
        "city_list[:3]"
      ],
      "execution_count": null,
      "outputs": [
        {
          "output_type": "execute_result",
          "data": {
            "text/plain": [
              "['/belgo-black-mountain-kelowna-bc',\n",
              " '/central-city-kelowna-bc',\n",
              " '/glenmore-clifton-dilworth-kelowna-bc']"
            ]
          },
          "metadata": {},
          "execution_count": 14
        }
      ]
    },
    {
      "cell_type": "code",
      "metadata": {
        "id": "7rEg9h2nUqsu"
      },
      "source": [
        "# setting up lists to form our dataframe later on\n",
        "address = []\n",
        "city = []\n",
        "price = []\n",
        "bed_bath_sqft = []\n",
        "property_type = []"
      ],
      "execution_count": null,
      "outputs": []
    },
    {
      "cell_type": "code",
      "metadata": {
        "id": "3K5OKpzEGr7v",
        "colab": {
          "base_uri": "https://localhost:8080/"
        },
        "outputId": "dd4b7f0a-f823-461f-ad65-2fc8b7ba3ab8"
      },
      "source": [
        "# looks like all the cities work and are in our clean_city_urls list, we now need to get the actual listings (I think)\n",
        "# we need the URL to look like 'https://www.rew.ca/properties/areas' + city_list\n",
        "%%time \n",
        "\n",
        "#loop to get individual listings from city_list above\n",
        "listings = []\n",
        "for url in city_list:\n",
        "    n_pages = 0\n",
        "    for page in range(1,30):\n",
        "        listing_url = 'https://www.rew.ca/properties/areas'+ url + \"/page/\" + str(page)\n",
        "        r = get(listing_url, headers=headers)\n",
        "        listing_html = BeautifulSoup(r.text, 'html.parser')\n",
        "        listing_container = listing_html.find_all('div', class_ = 'displaypanel-content')\n",
        "    \n",
        "        if listing_container != []:\n",
        "            for container in listing_container:\n",
        "\n",
        "                #address\n",
        "                location = container.find_all('div', class_ = 'displaypanel-section')[0].text\n",
        "                address.append(location)\n",
        "\n",
        "                #city\n",
        "                zone = container.find_all('ul', class_ = 'l-pipedlist displaypanel-info')\n",
        "                city.append(zone)\n",
        "\n",
        "                #price\n",
        "                amt = int(container.find('div', class_ = 'displaypanel-title').text[2:].replace(',',''))\n",
        "                price.append(amt)\n",
        "\n",
        "                #Beds, Baths, and Square Footage\n",
        "                living_space = container.find_all('ul', class_ = 'l-pipedlist')[1].text\n",
        "                bed_bath_sqft.append(living_space)\n",
        "\n",
        "                #property type\n",
        "                p_type = container.find_all('div', class_ = 'displaypanel-info')[0].text\n",
        "                property_type.append(p_type)\n",
        "\n",
        "        else:\n",
        "           break\n",
        "\n",
        "        t.sleep(randint(1,3))\n",
        "\n",
        "print('Scraped {} listings'.format(len(address)))"
      ],
      "execution_count": null,
      "outputs": [
        {
          "output_type": "stream",
          "name": "stdout",
          "text": [
            "Scraped 0 listings\n",
            "CPU times: user 13 s, sys: 474 ms, total: 13.5 s\n",
            "Wall time: 52.7 s\n"
          ]
        }
      ]
    },
    {
      "cell_type": "code",
      "metadata": {
        "id": "ufvADyjiV-Dj"
      },
      "source": [
        "#above code isn't working, break it down into steps and figure out if the loops are working\n",
        "#anything below this line is test code and will be deleted once we get the above block working"
      ],
      "execution_count": null,
      "outputs": []
    },
    {
      "cell_type": "code",
      "metadata": {
        "colab": {
          "base_uri": "https://localhost:8080/"
        },
        "id": "BQ5TacchhhOe",
        "outputId": "0249a3dd-019c-456c-d9cc-7807203c78f9"
      },
      "source": [
        "len(city_list)"
      ],
      "execution_count": null,
      "outputs": [
        {
          "output_type": "execute_result",
          "data": {
            "text/plain": [
              "685"
            ]
          },
          "metadata": {},
          "execution_count": 18
        }
      ]
    },
    {
      "cell_type": "code",
      "metadata": {
        "colab": {
          "base_uri": "https://localhost:8080/"
        },
        "id": "X1fTtBkCyJQb",
        "outputId": "a2f8e1da-95ca-4615-c897-7f587f7b547b"
      },
      "source": [
        "%%time\n",
        "\n",
        "#loop to get individual listings from city_list above\n",
        "listings = []\n",
        "n_pages=0\n",
        "for url in city_list:\n",
        "    n_pages += 1\n",
        "    listing_url = 'https://www.rew.ca/properties/areas'+ url + \"/page/1\"\n",
        "    r = get(listing_url, headers=headers)\n",
        "    listing_html = BeautifulSoup(r.text, 'html.parser')\n",
        "    listing_container = listing_html.find_all('div', class_ = 'displaypanel-body')\n",
        "    \n",
        "    for container in listing_container:\n",
        "        if listing_container == []:\n",
        "            break\n",
        "            #address\n",
        "            location = container.find_all('div', class_ = 'displaypanel-section')[0].text\n",
        "            address.append(location)\n",
        "\n",
        "            #city\n",
        "            zone = container.find_all('ul', class_ = 'l-pipedlist displaypanel-info')\n",
        "            city.append(zone)\n",
        "\n",
        "            #price\n",
        "            amt = int(container.find('div', class_ = 'displaypanel-title').text[2:].replace(',',''))\n",
        "            price.append(amt)\n",
        "\n",
        "            #Beds, Baths, and Square Footage\n",
        "            living_space = container.find_all('ul', class_ = 'l-pipedlist')[1].text\n",
        "            bed_bath_sqft.append(living_space)\n",
        "\n",
        "            #property type\n",
        "            p_type = container.find_all('div', class_ = 'displaypanel-info')[0].text\n",
        "            property_type.append(p_type)\n",
        "\n",
        "\n",
        "    t.sleep(randint(1,3))\n",
        "\n",
        "print('Scraped {} listings from {} city containers'.format(len(address),n_pages))"
      ],
      "execution_count": null,
      "outputs": [
        {
          "output_type": "stream",
          "name": "stdout",
          "text": [
            "Scraped 0 listings from 685 city containers\n",
            "CPU times: user 54.1 s, sys: 1.71 s, total: 55.8 s\n",
            "Wall time: 27min 52s\n"
          ]
        }
      ]
    },
    {
      "cell_type": "code",
      "metadata": {
        "id": "J0fdjKqGuB4R"
      },
      "source": [
        "#above code seems to partially work but stopped at abbotsford east for some reason"
      ],
      "execution_count": null,
      "outputs": []
    },
    {
      "cell_type": "code",
      "metadata": {
        "colab": {
          "base_uri": "https://localhost:8080/"
        },
        "id": "1ZIn7YuSA2XB",
        "outputId": "cff923c3-16c3-4231-9bc6-20ff21b6adae"
      },
      "source": [
        "address[:1000]"
      ],
      "execution_count": null,
      "outputs": [
        {
          "output_type": "execute_result",
          "data": {
            "text/plain": [
              "[]"
            ]
          },
          "metadata": {},
          "execution_count": 21
        }
      ]
    },
    {
      "cell_type": "code",
      "metadata": {
        "colab": {
          "base_uri": "https://localhost:8080/"
        },
        "id": "ksw_e6cI8Igf",
        "outputId": "05d67cc5-4b70-4a72-94bc-0be53b943099"
      },
      "source": [
        "city_list[:15]"
      ],
      "execution_count": null,
      "outputs": [
        {
          "output_type": "execute_result",
          "data": {
            "text/plain": [
              "['/belgo-black-mountain-kelowna-bc',\n",
              " '/central-city-kelowna-bc',\n",
              " '/glenmore-clifton-dilworth-kelowna-bc',\n",
              " '/highway-97-kelowna-bc',\n",
              " '/mckinley-kelowna-bc',\n",
              " '/north-mission-crawford-kelowna-bc',\n",
              " '/rutland-kelowna-bc',\n",
              " '/southeast-kelowna-bc',\n",
              " '/south-pandosy-klo-kelowna-bc',\n",
              " '/southwest-mission-kelowna-bc',\n",
              " '/bartley-north-west-kelowna-bc',\n",
              " '/boucherie-centre-west-kelowna-bc',\n",
              " '/casa-loma-west-kelowna-bc',\n",
              " '/glenrosa-west-kelowna-bc',\n",
              " '/goats-peak-gellatly-west-kelowna-bc']"
            ]
          },
          "metadata": {},
          "execution_count": 22
        }
      ]
    },
    {
      "cell_type": "code",
      "metadata": {
        "id": "GMTugRVU_Qp6"
      },
      "source": [
        "#next step is to get 1 single city url and get the page range to work. Issue might be getting it to cutoff when empty container comes up?"
      ],
      "execution_count": null,
      "outputs": []
    }
  ]
}