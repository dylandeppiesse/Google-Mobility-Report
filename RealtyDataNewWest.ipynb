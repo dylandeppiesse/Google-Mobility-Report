{
  "nbformat": 4,
  "nbformat_minor": 0,
  "metadata": {
    "colab": {
      "name": "RealtyDataNewWest.ipynb",
      "provenance": [],
      "authorship_tag": "ABX9TyM871WrYf+6zg59FMsZ0e/b",
      "include_colab_link": true
    },
    "kernelspec": {
      "name": "python3",
      "display_name": "Python 3"
    },
    "language_info": {
      "name": "python"
    }
  },
  "cells": [
    {
      "cell_type": "markdown",
      "metadata": {
        "id": "view-in-github",
        "colab_type": "text"
      },
      "source": [
        "<a href=\"https://colab.research.google.com/github/dylandeppiesse/Google-Mobility-Report/blob/master/RealtyDataNewWest.ipynb\" target=\"_parent\"><img src=\"https://colab.research.google.com/assets/colab-badge.svg\" alt=\"Open In Colab\"/></a>"
      ]
    },
    {
      "cell_type": "code",
      "metadata": {
        "id": "nCKt4Rg-3BZX"
      },
      "source": [
        "from bs4 import BeautifulSoup\n",
        "from requests import get\n",
        "import time as t\n",
        "from random import randint\n",
        "import pandas as pd\n",
        "import itertools\n",
        "import re"
      ],
      "execution_count": 1,
      "outputs": []
    },
    {
      "cell_type": "code",
      "metadata": {
        "id": "upZ6CxvK2eeN"
      },
      "source": [
        "# setting headers which will make it look like this is coming\n",
        "# from an actual browser instead of a scraper\n",
        "headers = ({'User-Agent':\n",
        "            'Mozilla/5.0 (Windows NT 6.1) AppleWebKit/537.36 (KHTML,\\\n",
        "            like Gecko) Chrome/41.0.2228.0 Safari/537.36'})"
      ],
      "execution_count": 2,
      "outputs": []
    },
    {
      "cell_type": "code",
      "metadata": {
        "id": "Q3a6XmCz2kEa"
      },
      "source": [
        "# I don't think we need this?\n",
        "realtor = 'https://www.rew.ca/properties/areas/new-westminster-bc'\n",
        "response = get(realtor, headers=headers)\n",
        "html_soup = BeautifulSoup(response.text, 'html.parser')"
      ],
      "execution_count": 3,
      "outputs": []
    },
    {
      "cell_type": "code",
      "metadata": {
        "id": "7rEg9h2nUqsu"
      },
      "source": [
        "# setting up lists to form our dataframe later on\n",
        "address = []\n",
        "city = []\n",
        "price = []\n",
        "bed_bath_sqft = []\n",
        "property_type = []"
      ],
      "execution_count": 3,
      "outputs": []
    },
    {
      "cell_type": "code",
      "metadata": {
        "id": "3K5OKpzEGr7v",
        "colab": {
          "base_uri": "https://localhost:8080/"
        },
        "outputId": "27aacb82-a251-4112-af8d-35d37627e452"
      },
      "source": [
        "# time to scrape!\n",
        "%%time \n",
        "\n",
        "n_pages = 0\n",
        "for page in range(1,30):\n",
        "    listing_url = 'https://www.rew.ca/properties/areas/new-westminster-bc/page/' + str(page)\n",
        "    r = get(listing_url, headers=headers)\n",
        "    listing_html = BeautifulSoup(r.text, 'html.parser')\n",
        "    listing_container = listing_html.find_all('div', class_ = 'displaypanel-content')\n",
        "\n",
        "    if listing_container != []:\n",
        "        for container in listing_container:\n",
        "\n",
        "            #address\n",
        "            location = container.find_all('div', class_ = 'displaypanel-section')[0].text\n",
        "            address.append(location)\n",
        "\n",
        "            #city\n",
        "            zone = container.find_all('ul', class_ = 'l-pipedlist displaypanel-info')\n",
        "            city.append(zone)\n",
        "\n",
        "            #price\n",
        "            amt = int(container.find('div', class_ = 'displaypanel-title').text[2:].replace(',',''))\n",
        "            price.append(amt)\n",
        "\n",
        "            #Beds, Baths, and Square Footage\n",
        "            living_space = container.find_all('ul', class_ = 'l-pipedlist')[1].text\n",
        "            bed_bath_sqft.append(living_space)\n",
        "\n",
        "            #property type\n",
        "            p_type = container.find_all('div', class_ = 'displaypanel-info')[0].text\n",
        "            property_type.append(p_type)\n",
        "\n",
        "    else:\n",
        "        break\n",
        "\n",
        "    t.sleep(randint(1,3))\n",
        "\n",
        "print('Scraped {} listings'.format(len(address)))"
      ],
      "execution_count": null,
      "outputs": [
        {
          "output_type": "stream",
          "name": "stdout",
          "text": [
            "Scraped 0 listings\n",
            "CPU times: user 216 ms, sys: 5.49 ms, total: 222 ms\n",
            "Wall time: 899 ms\n"
          ]
        }
      ]
    },
    {
      "cell_type": "code",
      "source": [
        "# this is our test area, we need to add all listings to the listing_container, currently it just adds the last page in the range\n",
        "# I think there should only be the same number of addresses as listing containers, not close to 5,000 as we are getting\n",
        "# need to figure out how/why other fields aren't scraping\n",
        "\n",
        "%%time \n",
        "listing_container = []\n",
        "for page in range(1,30):\n",
        "    listing_url = 'https://www.rew.ca/properties/areas/new-westminster-bc/page/' + str(page)\n",
        "    r = get(listing_url, headers=headers)\n",
        "    listing_html = BeautifulSoup(r.text, 'html.parser')\n",
        "    listing_container += listing_html.find_all('div', class_ = 'displaypanel-content')\n",
        "\n",
        "    if listing_container != []:\n",
        "        for container in listing_container:\n",
        "\n",
        "            #address\n",
        "            location = container.find_all('div', class_ = 'displaypanel-section')[0]\n",
        "            address.append(location)\n",
        "\n",
        "\n",
        "    else:\n",
        "        break\n",
        "\n",
        "        t.sleep(randint(1,3))\n",
        "\n",
        "print('Scraped {} listings'.format(len(address)))"
      ],
      "metadata": {
        "colab": {
          "base_uri": "https://localhost:8080/"
        },
        "id": "_OP2VEHM4TLS",
        "outputId": "8ba5bb05-2ca8-4789-eb72-1c52e2959de1"
      },
      "execution_count": 5,
      "outputs": [
        {
          "output_type": "stream",
          "name": "stdout",
          "text": [
            "Scraped 4749 listings\n",
            "CPU times: user 2.92 s, sys: 72.5 ms, total: 2.99 s\n",
            "Wall time: 22.4 s\n"
          ]
        }
      ]
    },
    {
      "cell_type": "code",
      "source": [
        "# Use a set to get the unique addresses and then do a python merge using this as the left part of the join to get unique info??\n",
        "\n",
        "len(set(address))"
      ],
      "metadata": {
        "colab": {
          "base_uri": "https://localhost:8080/"
        },
        "id": "DNZNjeH76uu2",
        "outputId": "76c8b811-6fd1-4267-ce97-afec10875665"
      },
      "execution_count": 13,
      "outputs": [
        {
          "output_type": "execute_result",
          "data": {
            "text/plain": [
              "146"
            ]
          },
          "metadata": {},
          "execution_count": 13
        }
      ]
    },
    {
      "cell_type": "code",
      "source": [
        "counter = 0\n",
        "for container in address:\n",
        "    counter +=1\n",
        "\n",
        "print(counter)"
      ],
      "metadata": {
        "colab": {
          "base_uri": "https://localhost:8080/"
        },
        "id": "4VZ7VrPTzMvx",
        "outputId": "03c69ab0-b533-4894-e64c-362a4ee1fef2"
      },
      "execution_count": 10,
      "outputs": [
        {
          "output_type": "stream",
          "name": "stdout",
          "text": [
            "4726\n"
          ]
        }
      ]
    },
    {
      "cell_type": "code",
      "source": [
        "print(len(listing_container))"
      ],
      "metadata": {
        "colab": {
          "base_uri": "https://localhost:8080/"
        },
        "id": "rIe7MB4p299t",
        "outputId": "5dec1f2c-7bdf-41fd-d4cc-c98c1f07604e"
      },
      "execution_count": 9,
      "outputs": [
        {
          "output_type": "stream",
          "name": "stdout",
          "text": [
            "183\n"
          ]
        }
      ]
    },
    {
      "cell_type": "code",
      "source": [
        ""
      ],
      "metadata": {
        "id": "NhiMro1Z364O"
      },
      "execution_count": null,
      "outputs": []
    }
  ]
}