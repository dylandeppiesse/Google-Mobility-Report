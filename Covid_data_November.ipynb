{
 "cells": [
  {
   "cell_type": "code",
   "execution_count": null,
   "metadata": {},
   "outputs": [],
   "source": [
    "Data from below link\n",
    "\n",
    "https://www.canada.ca/en/public-health/services/diseases/2019-novel-coronavirus-infection.html\n"
   ]
  },
  {
   "cell_type": "code",
   "execution_count": 1,
   "metadata": {},
   "outputs": [],
   "source": [
    "import pandas as pd\n",
    "import numpy as np\n",
    "import matplotlib.pyplot as plt"
   ]
  },
  {
   "cell_type": "code",
   "execution_count": 2,
   "metadata": {},
   "outputs": [],
   "source": [
    "data=pd.read_csv('covid19_data_nov.csv')\n",
    "data.drop(['pruid','prnameFR','numrecover', 'percentrecover',\n",
    "       'ratetested','percentoday', 'ratetotal', 'ratedeaths','percentdeath','numrecoveredtoday',\n",
    "       'percentactive','rateactive', 'numtotal_last14',\n",
    "       'ratetotal_last14', 'numdeaths_last14', 'ratedeaths_last14',\n",
    "       'numtotal_last7', 'ratetotal_last7', 'numdeaths_last7',\n",
    "       'ratedeaths_last7', 'avgtotal_last7', 'avgincidence_last7',\n",
    "       'avgdeaths_last7', 'avgratedeaths_last7' ],axis=1,inplace=True)"
   ]
  },
  {
   "cell_type": "markdown",
   "metadata": {},
   "source": [
    "Further filter data and decide which fields to use\n",
    "then join this dataset into the google mobility dataset by date and province \n",
    "Going to use only the numconf + numtotal columns for the time being"
   ]
  },
  {
   "cell_type": "code",
   "execution_count": 3,
   "metadata": {},
   "outputs": [],
   "source": [
    "small_data = data.drop(['numprob', 'numdeaths', \n",
    "       'numtested', 'numconf', 'numdeathstoday', 'numtestedtoday',\n",
    "       'numactive'\n",
    "            ],axis=1)"
   ]
  },
  {
   "cell_type": "code",
   "execution_count": 7,
   "metadata": {},
   "outputs": [],
   "source": [
    "small_data.to_csv('Canada_covid_data_nov_v2.csv')"
   ]
  }
 ],
 "metadata": {
  "kernelspec": {
   "display_name": "Python 3",
   "language": "python",
   "name": "python3"
  },
  "language_info": {
   "codemirror_mode": {
    "name": "ipython",
    "version": 3
   },
   "file_extension": ".py",
   "mimetype": "text/x-python",
   "name": "python",
   "nbconvert_exporter": "python",
   "pygments_lexer": "ipython3",
   "version": "3.6.5"
  }
 },
 "nbformat": 4,
 "nbformat_minor": 2
}
